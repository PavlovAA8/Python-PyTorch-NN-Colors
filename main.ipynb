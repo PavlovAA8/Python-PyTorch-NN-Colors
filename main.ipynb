{
  "nbformat": 4,
  "nbformat_minor": 0,
  "metadata": {
    "colab": {
      "provenance": []
    },
    "kernelspec": {
      "name": "python3",
      "display_name": "Python 3"
    },
    "language_info": {
      "name": "python"
    }
  },
  "cells": [
    {
      "cell_type": "code",
      "execution_count": 33,
      "metadata": {
        "id": "Rt-vu70Z51HM"
      },
      "outputs": [],
      "source": [
        "import os\n",
        "import torch\n",
        "import torch.nn as nn\n",
        "import torch.optim as optim\n",
        "import torchvision.transforms as transforms\n",
        "import torch.nn.functional as F\n",
        "from torchvision import datasets, models\n",
        "from torch.utils.data import DataLoader\n",
        "from sklearn.model_selection import train_test_split\n",
        "from PIL import Image\n"
      ]
    },
    {
      "cell_type": "code",
      "source": [
        "# Параметры\n",
        "data_dir = '/content/drive/MyDrive/Colab Notebooks/colors'  # Путь к папке с данными\n",
        "num_classes = 12  # Количество классов (цветов)\n",
        "batch_size = 32\n",
        "num_epochs = 10\n",
        "learning_rate = 0.001\n",
        "\n",
        "# Преобразования для данных\n",
        "transform = transforms.Compose([\n",
        "    transforms.Resize((128, 128)),\n",
        "    transforms.ToTensor(),\n",
        "])\n"
      ],
      "metadata": {
        "id": "WO0QgQAaH2a1"
      },
      "execution_count": 34,
      "outputs": []
    },
    {
      "cell_type": "code",
      "source": [
        "# Загрузка данных\n",
        "dataset = datasets.ImageFolder(data_dir, transform=transform)\n",
        "train_size = int(0.8 * len(dataset))\n",
        "test_size = len(dataset) - train_size\n",
        "train_dataset, test_dataset = torch.utils.data.random_split(dataset, [train_size, test_size])\n",
        "\n",
        "train_loader = DataLoader(train_dataset, batch_size=batch_size, shuffle=True)\n",
        "test_loader = DataLoader(test_dataset, batch_size=batch_size, shuffle=False)\n"
      ],
      "metadata": {
        "id": "bOJBvf4UH0uE"
      },
      "execution_count": 35,
      "outputs": []
    },
    {
      "cell_type": "code",
      "source": [
        "# Определение модели\n",
        "class SimpleCNN(nn.Module):\n",
        "    def __init__(self):\n",
        "        super(SimpleCNN, self).__init__()\n",
        "        self.conv1 = nn.Conv2d(3, 16, kernel_size=3, padding=1)\n",
        "        self.conv2 = nn.Conv2d(16, 32, kernel_size=3, padding=1)\n",
        "        self.pool = nn.MaxPool2d(kernel_size=2, stride=2)\n",
        "        self.fc1 = nn.Linear(32 * 32 * 32, 128)\n",
        "        self.fc2 = nn.Linear(128, num_classes)\n",
        "\n",
        "    def forward(self, x):\n",
        "        x = self.pool(F.relu(self.conv1(x)))\n",
        "        x = self.pool(F.relu(self.conv2(x)))\n",
        "        x = x.view(-1, 32 * 32 * 32)\n",
        "        x = F.relu(self.fc1(x))\n",
        "        x = self.fc2(x)\n",
        "        return x\n",
        "model = SimpleCNN()\n",
        "criterion = nn.CrossEntropyLoss()\n",
        "optimizer = optim.Adam(model.parameters(), lr=learning_rate)\n"
      ],
      "metadata": {
        "id": "EjHGw-rtHolB"
      },
      "execution_count": 36,
      "outputs": []
    },
    {
      "cell_type": "code",
      "source": [
        "# Обучение модели\n",
        "for epoch in range(num_epochs):\n",
        "    model.train()\n",
        "    running_loss = 0.0\n",
        "    for images, labels in train_loader:\n",
        "        optimizer.zero_grad()  # Обнуление градиентов\n",
        "        outputs = model(images)  # Прямой проход\n",
        "        loss = criterion(outputs, labels)  # Вычисление потерь\n",
        "        loss.backward()  # Обратный проход\n",
        "        optimizer.step()  # Обновление параметров\n",
        "        running_loss += loss.item()\n",
        "\n",
        "    print(f'Epoch [{epoch + 1}/{num_epochs}], Loss: {running_loss / len(train_loader):.4f}')\n"
      ],
      "metadata": {
        "id": "DAjZlDm_HnEi",
        "colab": {
          "base_uri": "https://localhost:8080/"
        },
        "outputId": "87fb5aa6-7d33-433b-c12c-f16dc4d18ed4"
      },
      "execution_count": 37,
      "outputs": [
        {
          "output_type": "stream",
          "name": "stdout",
          "text": [
            "Epoch [1/10], Loss: 1.6372\n",
            "Epoch [2/10], Loss: 0.7813\n",
            "Epoch [3/10], Loss: 0.6631\n",
            "Epoch [4/10], Loss: 0.5245\n",
            "Epoch [5/10], Loss: 0.5711\n",
            "Epoch [6/10], Loss: 0.4777\n",
            "Epoch [7/10], Loss: 0.4168\n",
            "Epoch [8/10], Loss: 0.3736\n",
            "Epoch [9/10], Loss: 0.3662\n",
            "Epoch [10/10], Loss: 0.3645\n"
          ]
        }
      ]
    },
    {
      "cell_type": "code",
      "source": [
        "# Оценка модели\n",
        "model.eval()\n",
        "correct = 0\n",
        "total = 0\n",
        "with torch.no_grad():\n",
        "    for images, labels in test_loader:\n",
        "        outputs = model(images)\n",
        "        _, predicted = torch.max(outputs.data, 1)\n",
        "        total += labels.size(0)\n",
        "        correct += (predicted == labels).sum().item()\n"
      ],
      "metadata": {
        "id": "5jVs1e6dHk_w"
      },
      "execution_count": 38,
      "outputs": []
    },
    {
      "cell_type": "code",
      "source": [
        "print(f'Accuracy of the model on the test images: {100 * correct / total:.2f}%')"
      ],
      "metadata": {
        "id": "UbcjySTeHjwe",
        "colab": {
          "base_uri": "https://localhost:8080/"
        },
        "outputId": "336a23b6-9323-41de-8ddf-52a043f09797"
      },
      "execution_count": 39,
      "outputs": [
        {
          "output_type": "stream",
          "name": "stdout",
          "text": [
            "Accuracy of the model on the test images: 75.33%\n"
          ]
        }
      ]
    },
    {
      "cell_type": "code",
      "source": [
        "# Сохранение модели\n",
        "torch.save(model.state_dict(), 'color_classifier.pth')"
      ],
      "metadata": {
        "id": "MPQ8WQrqHhd3"
      },
      "execution_count": 40,
      "outputs": []
    },
    {
      "cell_type": "code",
      "source": [
        "# Функция для предсказания цвета на новом изображении\n",
        "def predict_color(image_path):\n",
        "    model.eval()\n",
        "    image = Image.open(image_path)\n",
        "    image = transform(image).unsqueeze(0)  # Добавляем размерность для батча\n",
        "    with torch.no_grad():\n",
        "        output = model(image)\n",
        "        _, predicted = torch.max(output.data, 1)\n",
        "    return dataset.classes[predicted.item()]"
      ],
      "metadata": {
        "id": "LNVoNePaHgLP"
      },
      "execution_count": 41,
      "outputs": []
    },
    {
      "cell_type": "code",
      "source": [
        "# Пример использования функции предсказания\n",
        "color = predict_color('/content/drive/MyDrive/Colab Notebooks/colors/final.jpg')\n",
        "print(f'Predicted color: {color}')"
      ],
      "metadata": {
        "id": "OTGz1Du2HeTg",
        "colab": {
          "base_uri": "https://localhost:8080/"
        },
        "outputId": "40e9e06c-0f75-4fd4-812f-9f0eab40eb75"
      },
      "execution_count": 42,
      "outputs": [
        {
          "output_type": "stream",
          "name": "stdout",
          "text": [
            "Predicted color: Pink\n"
          ]
        }
      ]
    }
  ]
}